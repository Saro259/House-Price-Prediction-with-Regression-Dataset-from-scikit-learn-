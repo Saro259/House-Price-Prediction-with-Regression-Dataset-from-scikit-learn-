{
 "cells": [
  {
   "cell_type": "code",
   "execution_count": 1,
   "id": "a3e67d8c-50df-4e1c-a6f0-f6e53a19db0c",
   "metadata": {},
   "outputs": [],
   "source": [
    "# House Price Prediction with Regression (Dataset from scikit learn)"
   ]
  },
  {
   "cell_type": "code",
   "execution_count": null,
   "id": "73413638-4099-4a54-b2a4-e507529c1d04",
   "metadata": {},
   "outputs": [
    {
     "name": "stdout",
     "output_type": "stream",
     "text": [
      "Target Value Range (in 100,000s): Min = 0.15, Max = 5.00, Mean = 2.07\n"
     ]
    }
   ],
   "source": [
    "import tensorflow as tf\n",
    "from tensorflow.keras import layers, models\n",
    "from sklearn.datasets import fetch_california_housing\n",
    "from sklearn.model_selection import train_test_split\n",
    "from sklearn.preprocessing import StandardScaler\n",
    "import numpy as np\n",
    "\n",
    "data = fetch_california_housing()\n",
    "x,y = data.data, data.target # Features and Target (median value in 100,000s)\n",
    "\n",
    "print(f\"Target Value Range (in 100,000s): Min = {y.min():.2f}, Max = {y.max():.2f}, Mean = {y.mean():.2f}\")\n",
    "\n",
    "x_train, x_test, y_train, y_test = train_test_split(x,y,test_size=0.2, random_state=42)\n",
    "\n",
    "scaler = StandardScaler()\n",
    "x_train = scaler.fit_transform(x_train) # calculate mean and std from training data\n",
    "x_test = scaler.transform(x_test)\n",
    "\n",
    "model = models.Sequential([\n",
    "    layers.Dense(64, activation=\"relu\", input_shape=(x_train.shape[1],)),\n",
    "    layers.Dense(32, activation=\"relu\"),\n",
    "    layers.Dense(1)\n",
    "])\n",
    "\n",
    "model.compile(optimizer=\"adam\", loss=\"mse\", metrics=['mae'])\n",
    "model.fit(x_train, y_train, epochs=20, batch_size=32, verbose=1)\n",
    "\n",
    "test_loss, test_mae = model.evaluate(x_test, y_test)\n",
    "print(f\"Test MAE: ${test_mae* 100000:.2f}\")\n",
    "\n",
    "sample_input = np.expand_dims(x_test[0], axis=0)\n",
    "predicted_price = model.predict(sample_input)\n",
    "print(f\"Predicted Price: ${predicted_price[0][0]* 100000:.2f}\")\n"
   ]
  },
  {
   "cell_type": "code",
   "execution_count": null,
   "id": "a5fd5082-3a17-4353-8e72-bae023ee67ce",
   "metadata": {},
   "outputs": [],
   "source": []
  }
 ],
 "metadata": {
  "kernelspec": {
   "display_name": "Python (tf-env)",
   "language": "python",
   "name": "tf-env"
  },
  "language_info": {
   "codemirror_mode": {
    "name": "ipython",
    "version": 3
   },
   "file_extension": ".py",
   "mimetype": "text/x-python",
   "name": "python",
   "nbconvert_exporter": "python",
   "pygments_lexer": "ipython3",
   "version": "3.10.18"
  }
 },
 "nbformat": 4,
 "nbformat_minor": 5
}
